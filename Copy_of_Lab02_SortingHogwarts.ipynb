{
  "nbformat": 4,
  "nbformat_minor": 0,
  "metadata": {
    "colab": {
      "name": "Copy of Lab02_SortingHogwarts.ipynb",
      "provenance": [],
      "collapsed_sections": [],
      "include_colab_link": true
    },
    "kernelspec": {
      "display_name": "Python 3",
      "language": "python",
      "name": "python3"
    },
    "language_info": {
      "codemirror_mode": {
        "name": "ipython",
        "version": 3
      },
      "file_extension": ".py",
      "mimetype": "text/x-python",
      "name": "python",
      "nbconvert_exporter": "python",
      "pygments_lexer": "ipython3",
      "version": "3.7.3"
    }
  },
  "cells": [
    {
      "cell_type": "markdown",
      "metadata": {
        "id": "view-in-github",
        "colab_type": "text"
      },
      "source": [
        "<a href=\"https://colab.research.google.com/github/isacoty/isacoty/blob/main/Copy_of_Lab02_SortingHogwarts.ipynb\" target=\"_parent\"><img src=\"https://colab.research.google.com/assets/colab-badge.svg\" alt=\"Open In Colab\"/></a>"
      ]
    },
    {
      "cell_type": "markdown",
      "metadata": {
        "id": "9aXfrLXg9seM"
      },
      "source": [
        "# Lab 02 Sorting Hogwarts\n",
        "In this lab you will practice using conditional statements in order to sort your user into a Hogwarts house.\n",
        "\n",
        "## Asking for user preferences\n",
        "We will ask users a series of questions. This code will be provided to you. You will need to save responses from users and keep track of the preferences in terms of counts for each house.\n",
        "\n"
      ]
    },
    {
      "cell_type": "markdown",
      "metadata": {
        "id": "oH_PT-1bu19E"
      },
      "source": [
        "## Counts for each House\n",
        "We will use the following integer variables to keep track of whether the response given by users should place them in the house. There is a variable for each house and we will guide you when to increment each. Remember that *increment* means to add 1 to its value."
      ]
    },
    {
      "cell_type": "code",
      "metadata": {
        "id": "O2m4hak_va-j"
      },
      "source": [
        "gryffindor = 0\n",
        "hufflepuff = 0\n",
        "ravenclaw = 0\n",
        "slytherin = 0"
      ],
      "execution_count": 74,
      "outputs": []
    },
    {
      "cell_type": "markdown",
      "metadata": {
        "id": "LCUmYgcomFGg"
      },
      "source": [
        "## First Question: \n",
        "\n"
      ]
    },
    {
      "cell_type": "code",
      "metadata": {
        "colab": {
          "base_uri": "https://localhost:8080/"
        },
        "id": "5DUZ_9hPmxCi",
        "outputId": "155fc290-2979-4100-fcf4-4ad0290af873"
      },
      "source": [
        "# Question 1\n",
        "print(\"After I've passed away, I want people to remember me as:\")\n",
        "print('  1) The Good')\n",
        "print('  2) The Great')\n",
        "print('  3) The Wise')\n",
        "print('  4) The Bold')\n",
        "\n"
      ],
      "execution_count": 60,
      "outputs": [
        {
          "output_type": "stream",
          "name": "stdout",
          "text": [
            "After I've passed away, I want people to remember me as:\n",
            "  1) The Good\n",
            "  2) The Great\n",
            "  3) The Wise\n",
            "  4) The Bold\n"
          ]
        }
      ]
    },
    {
      "cell_type": "markdown",
      "metadata": {
        "id": "GbGRzW9SwaW7"
      },
      "source": [
        "In the following cell, ask the user to enter a corresponding number from above (e.g. \"Please enter your number choice\") and save the response from the user. Remember that when a user enters a response, Python treats it as a string until told to treat as number."
      ]
    },
    {
      "cell_type": "code",
      "metadata": {
        "colab": {
          "base_uri": "https://localhost:8080/"
        },
        "id": "LLzzUjIGwZix",
        "outputId": "1a23bf23-202d-4611-bb6a-a6f6ea41d916"
      },
      "source": [
        "# Prompt user to enter number choice and save the number entered as a variable.\n",
        "remember = input(\"Please enter your number choice\")\n"
      ],
      "execution_count": 61,
      "outputs": [
        {
          "name": "stdout",
          "output_type": "stream",
          "text": [
            "Please enter your number choice4\n"
          ]
        }
      ]
    },
    {
      "cell_type": "markdown",
      "metadata": {
        "id": "5yNGFER9xNjc"
      },
      "source": [
        "In the following cell, based on the response from the user, increment the appropriate House count. You will complete the conditional statement as specified in the comments. Right now it always prints good choice. (Why?)"
      ]
    },
    {
      "cell_type": "code",
      "metadata": {
        "colab": {
          "base_uri": "https://localhost:8080/"
        },
        "id": "_lGcvdh5xw6C",
        "outputId": "6e654855-09d8-4aa9-c5a5-c2e467c0f4c3"
      },
      "source": [
        "if remember == '1':\n",
        "  hufflepuff += 1\n",
        "  print(\"Good choice!\")\n",
        "elif remember == '2':\n",
        "  slytherin += 1\n",
        "  print(\"Good choice!\")\n",
        "elif remember == '3':\n",
        "  ravenclaw += 1\n",
        "  print(\"Good choice!\")\n",
        "elif remember == '4':\n",
        "  gryffindor += 1\n",
        "  print(\"Good choice!\")\n",
        "else:\n",
        "  print(\"Invalid choice\")"
      ],
      "execution_count": 62,
      "outputs": [
        {
          "output_type": "stream",
          "name": "stdout",
          "text": [
            "Good choice!\n"
          ]
        }
      ]
    },
    {
      "cell_type": "markdown",
      "metadata": {
        "id": "4dODrt9WnO-v"
      },
      "source": [
        "## Second Question:"
      ]
    },
    {
      "cell_type": "code",
      "metadata": {
        "colab": {
          "base_uri": "https://localhost:8080/"
        },
        "id": "ncutxJBKniMh",
        "outputId": "c58ffdaa-d714-44f3-c1ee-079665f0edc5"
      },
      "source": [
        "print('Q2) Dawn or Dusk?')\n",
        "print('  1) Dawn')\n",
        "print('  2) Dusk')"
      ],
      "execution_count": 63,
      "outputs": [
        {
          "output_type": "stream",
          "name": "stdout",
          "text": [
            "Q2) Dawn or Dusk?\n",
            "  1) Dawn\n",
            "  2) Dusk\n"
          ]
        }
      ]
    },
    {
      "cell_type": "code",
      "metadata": {
        "colab": {
          "base_uri": "https://localhost:8080/"
        },
        "id": "6dSl_gTHzfBm",
        "outputId": "e01d3542-546f-4b64-e164-78d66b022e17"
      },
      "source": [
        "# Prompt user to enter number choice and save the number entered as a variable.\n",
        "remember = input(\"Please enter your number choice\")"
      ],
      "execution_count": 64,
      "outputs": [
        {
          "name": "stdout",
          "output_type": "stream",
          "text": [
            "Please enter your number choice2\n"
          ]
        }
      ]
    },
    {
      "cell_type": "markdown",
      "metadata": {
        "id": "R3rSX1wpztIC"
      },
      "source": [
        "In the following cell, based on the response from the user, increment the appropriate House count. You will complete the conditional statement as specified in the comments. Right now it always prints better choice. (This is not a good way to write a conditional statement!)"
      ]
    },
    {
      "cell_type": "code",
      "metadata": {
        "colab": {
          "base_uri": "https://localhost:8080/"
        },
        "id": "Xf2dy7QWz1iQ",
        "outputId": "68aa0e5f-4932-4c58-dd54-62ad0095a55b"
      },
      "source": [
        "if remember == '1':\n",
        "  gryffindor += 1 \n",
        "  ravenclaw += 1\n",
        "  print(\"Better choice\")\n",
        "\n",
        "elif remember == '2': \n",
        "  hufflepuff += 1\n",
        "  slytherin += 1\n",
        "  print(\"Better choice\")\n",
        "else:\n",
        "    print(\"Invalid choice\")"
      ],
      "execution_count": 65,
      "outputs": [
        {
          "output_type": "stream",
          "name": "stdout",
          "text": [
            "Better choice\n"
          ]
        }
      ]
    },
    {
      "cell_type": "markdown",
      "metadata": {
        "id": "E5-kf-6n05Fb"
      },
      "source": [
        "## Third Question:"
      ]
    },
    {
      "cell_type": "code",
      "metadata": {
        "colab": {
          "base_uri": "https://localhost:8080/"
        },
        "id": "jDZDhGLQ08b0",
        "outputId": "72bfa50d-491f-45f6-e55b-745c291dea0f"
      },
      "source": [
        "# Question 3\n",
        "print('Which kind of instrument most pleases your ear?')\n",
        "print('  1) The violin')\n",
        "print('  2) The trumpet')\n",
        "print('  3) The piano')\n",
        "print('  4) The drum')"
      ],
      "execution_count": 69,
      "outputs": [
        {
          "output_type": "stream",
          "name": "stdout",
          "text": [
            "Which kind of instrument most pleases your ear?\n",
            "  1) The violin\n",
            "  2) The trumpet\n",
            "  3) The piano\n",
            "  4) The drum\n"
          ]
        }
      ]
    },
    {
      "cell_type": "code",
      "metadata": {
        "colab": {
          "base_uri": "https://localhost:8080/"
        },
        "id": "yn1MVik70-X6",
        "outputId": "b4801e8c-080e-47f2-8364-a09bf9f6ccc9"
      },
      "source": [
        "# Prompt user to enter number choice and save the number entered as a variable.\n",
        "remember = input(\"Please enter your number choice\")"
      ],
      "execution_count": 70,
      "outputs": [
        {
          "name": "stdout",
          "output_type": "stream",
          "text": [
            "Please enter your number choice4\n"
          ]
        }
      ]
    },
    {
      "cell_type": "markdown",
      "metadata": {
        "id": "jrWA13-t1DII"
      },
      "source": [
        "In the following cell, based on the response from the user, increment the appropriate House count. You will complete the conditional statement as specified in the comments. Right now it always prints all sound wonderful."
      ]
    },
    {
      "cell_type": "code",
      "metadata": {
        "colab": {
          "base_uri": "https://localhost:8080/"
        },
        "id": "XSZb06PT1S59",
        "outputId": "987114b4-aa63-4d93-de6d-597948b9b389"
      },
      "source": [
        "if remember == '1':\n",
        "  slytherin += 1 \n",
        "  print(\"All sound wonderful!\")\n",
        "\n",
        "elif remember == '2':\n",
        "  hufflepuff += 1\n",
        "  print(\"All sound wonderful!\")\n",
        "elif remember == '3':\n",
        "  ravenclaw += 1\n",
        "  print(\"All sound wonderful!\")\n",
        "elif remember == '4':\n",
        "  gryffindor += 1\n",
        "  print(\"All sound wonderful!\")\n",
        "else:\n",
        "  print(\"Invalid choice\")"
      ],
      "execution_count": 71,
      "outputs": [
        {
          "output_type": "stream",
          "name": "stdout",
          "text": [
            "All sound wonderful!\n"
          ]
        }
      ]
    },
    {
      "cell_type": "markdown",
      "metadata": {
        "id": "O8oF7J1OmCnQ"
      },
      "source": [
        "## Fourth Question:\n",
        "Here's where we will need to practice *nested conditional* statements. *Nested conditional* statements are *if* statements within *if* statements. Here we will ask all users the same question. However, based on their response within the *if* statement you will need to ask another question and then increment the appropriate House count. We will get this started and save the first response."
      ]
    },
    {
      "cell_type": "code",
      "metadata": {
        "colab": {
          "base_uri": "https://localhost:8080/"
        },
        "id": "GWIPxLAS2ZgN",
        "outputId": "2394939f-f298-4a32-e0cf-3f58c9fe9a42"
      },
      "source": [
        "print('Do roads in nature tempt you the most?')\n",
        "print('  1) Yes')\n",
        "print('  2) No')\n",
        "\n",
        "choice = input('Please enter a number to answer:')\n",
        "select = int(choice)"
      ],
      "execution_count": 72,
      "outputs": [
        {
          "name": "stdout",
          "output_type": "stream",
          "text": [
            "Do roads in nature tempt you the most?\n",
            "  1) Yes\n",
            "  2) No\n",
            "Please enter a number to answer:2\n"
          ]
        }
      ]
    },
    {
      "cell_type": "markdown",
      "metadata": {
        "id": "tuPX7Li-2YGw"
      },
      "source": [
        "Now based on the user reply, you will have to ask the user the specific type of road and then use that to increment the appropriate house count. We started out this if statement in the following cell and you will need to complete it by added nested if statements and incrementing house counts as specified in comments."
      ]
    },
    {
      "cell_type": "code",
      "metadata": {
        "colab": {
          "base_uri": "https://localhost:8080/"
        },
        "id": "mCuyN8JZqPhI",
        "outputId": "9b246ce7-1fd0-4bc8-8332-7f536a2c509b"
      },
      "source": [
        "if select == 1:\n",
        "  print(\"Ask user if they prefer...\")\n",
        "  print('1) The wide, sunny grassy lane')\n",
        "  print('2) The twisting, leaf-strewn path through woods')\n",
        "  choice = input('Please enter a number to answer:')\n",
        "  select = int(choice)\n",
        "\n",
        "if remember == '1':\n",
        "  gryffindor += 1 \n",
        "if remember == '2':\n",
        "  hufflepuff += 1 \n",
        "\n",
        "elif select == 2:\n",
        "  print(\"Ask user if they prefer...\")\n",
        "  print('3) The narrow, dark, lantern-lit alley')\n",
        "  print('4) The cobbled street lined with ancient buildings')\n",
        "\n",
        "  choice = input('Please enter a number to answer:')\n",
        "  select = int(choice)\n",
        "\n",
        "if remember == '3':\n",
        "  slytherin += 2\n",
        "if remember == '4':\n",
        "  ravenclaw += 2\n",
        "  \n",
        "else:\n",
        "  print(\"Invalid choice\")\n"
      ],
      "execution_count": 73,
      "outputs": [
        {
          "name": "stdout",
          "output_type": "stream",
          "text": [
            "Ask user if they prefer...\n",
            "3) The narrow, dark, lantern-lit alley\n",
            "4) The cobbled street lined with ancient buildings\n",
            "Please enter a number to answer:4\n"
          ]
        }
      ]
    },
    {
      "cell_type": "markdown",
      "metadata": {
        "id": "OIWaikgzrzdR"
      },
      "source": [
        "## Challenge! Determining Appropriate House\n",
        "Now that we have tallied all the responses, can you figure out which house has the maximum number of responses? That will be the house for the user. If there is a tie, break the tie using alphabetical order: Gryffindor, Hufflepuff, Ravenclaw, Slytherin (in that order). We will get you started and show what needs to be printed, but you need to figure out what house has the maximum count using the count variables above.\n"
      ]
    },
    {
      "cell_type": "code",
      "metadata": {
        "colab": {
          "base_uri": "https://localhost:8080/"
        },
        "id": "TM3VQOMVtiU4",
        "outputId": "a38f264b-bf09-4573-d03e-54450603fb39"
      },
      "source": [
        "house = 'None'\n",
        "max = 0\n",
        "\n",
        "# How can you find the House with the max count?\n",
        "# Remember that in the event of tie the user should be sorted into\n",
        "# the House in alphabetical order, so\n",
        "# Gryffindor before Hufflepuff before Ravenclaw before Slytherin\n",
        "# Could comparing house counts in that order help you find the max?\n",
        "\n",
        "# if gryffindor is more than the current max, update max and set house to 'Gryffindor'\n",
        "if gryffindor > max:\n",
        "   house = 'Gryffindor'\n",
        "   max = gryffindor\n",
        "\n",
        "\n",
        "\n",
        "# The following code does not need to be changed.\n",
        "# If the user entered all invalid responses and no house has any counts\n",
        "# the user cannot be sorted into a house, so it is fine if house is \"None\"\n",
        "# at this point\n",
        "\n",
        "print('Congrats on being sorted into...' + house + '!')"
      ],
      "execution_count": null,
      "outputs": [
        {
          "name": "stdout",
          "output_type": "stream",
          "text": [
            "Congrats on being sorted into...None!\n"
          ]
        }
      ]
    },
    {
      "cell_type": "markdown",
      "metadata": {
        "id": "dKL0LYd-E4JB"
      },
      "source": [
        "### Reflections\n",
        "Add a text cell below to answer the following questions:\n",
        "1. What do you feel more confident about after completing this lab? I feel confident that I could code a BuzzFeed quiz.\n",
        "2. What do you feel you can use more help with after completing this lab? I need more help with understanding the challenge.\n",
        "3. Do you have any constructive suggestions on how we can help you or improve this lab? The challenge part of the assignment is confusing."
      ]
    },
    {
      "cell_type": "markdown",
      "metadata": {
        "id": "gB1aHDpyFYey"
      },
      "source": [
        "### Save your work to GitHub\n",
        "Please save this notebook to your lab repository."
      ]
    }
  ]
}